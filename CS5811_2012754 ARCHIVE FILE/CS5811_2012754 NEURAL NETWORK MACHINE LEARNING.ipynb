{
 "cells": [
  {
   "cell_type": "code",
   "execution_count": 1,
   "metadata": {},
   "outputs": [],
   "source": [
    "import pandas as pd\n",
    "import datetime#, timedelta\n",
    "\n",
    "import numpy as np\n",
    "import pandas as pd\n",
    "from matplotlib import pyplot as plt\n",
    "from sklearn.datasets import make_blobs\n",
    "from sklearn.cluster import KMeans"
   ]
  },
  {
   "cell_type": "code",
   "execution_count": 2,
   "metadata": {},
   "outputs": [
    {
     "data": {
      "text/html": [
       "<div>\n",
       "<style scoped>\n",
       "    .dataframe tbody tr th:only-of-type {\n",
       "        vertical-align: middle;\n",
       "    }\n",
       "\n",
       "    .dataframe tbody tr th {\n",
       "        vertical-align: top;\n",
       "    }\n",
       "\n",
       "    .dataframe thead th {\n",
       "        text-align: right;\n",
       "    }\n",
       "</style>\n",
       "<table border=\"1\" class=\"dataframe\">\n",
       "  <thead>\n",
       "    <tr style=\"text-align: right;\">\n",
       "      <th></th>\n",
       "      <th>price_paid</th>\n",
       "    </tr>\n",
       "  </thead>\n",
       "  <tbody>\n",
       "    <tr>\n",
       "      <th>count</th>\n",
       "      <td>1.344350e+05</td>\n",
       "    </tr>\n",
       "    <tr>\n",
       "      <th>mean</th>\n",
       "      <td>9.119420e+05</td>\n",
       "    </tr>\n",
       "    <tr>\n",
       "      <th>std</th>\n",
       "      <td>5.360636e+06</td>\n",
       "    </tr>\n",
       "    <tr>\n",
       "      <th>min</th>\n",
       "      <td>1.000000e+02</td>\n",
       "    </tr>\n",
       "    <tr>\n",
       "      <th>25%</th>\n",
       "      <td>3.170000e+05</td>\n",
       "    </tr>\n",
       "    <tr>\n",
       "      <th>50%</th>\n",
       "      <td>4.350000e+05</td>\n",
       "    </tr>\n",
       "    <tr>\n",
       "      <th>75%</th>\n",
       "      <td>6.450000e+05</td>\n",
       "    </tr>\n",
       "    <tr>\n",
       "      <th>max</th>\n",
       "      <td>2.550000e+08</td>\n",
       "    </tr>\n",
       "  </tbody>\n",
       "</table>\n",
       "</div>"
      ],
      "text/plain": [
       "         price_paid\n",
       "count  1.344350e+05\n",
       "mean   9.119420e+05\n",
       "std    5.360636e+06\n",
       "min    1.000000e+02\n",
       "25%    3.170000e+05\n",
       "50%    4.350000e+05\n",
       "75%    6.450000e+05\n",
       "max    2.550000e+08"
      ]
     },
     "execution_count": 2,
     "metadata": {},
     "output_type": "execute_result"
    }
   ],
   "source": [
    "housing_Crime_Data = pd.read_csv(r\"C:\\Users\\tochi\\Desktop\\Crime_Housing.csv\")\n",
    "housing_Crime_Data.describe()"
   ]
  },
  {
   "cell_type": "code",
   "execution_count": 3,
   "metadata": {},
   "outputs": [
    {
     "data": {
      "text/plain": [
       "Month            object\n",
       "Crime.type       object\n",
       "postcode         object\n",
       "price_paid        int64\n",
       "property_type    object\n",
       "new_build        object\n",
       "town             object\n",
       "district         object\n",
       "dtype: object"
      ]
     },
     "execution_count": 3,
     "metadata": {},
     "output_type": "execute_result"
    }
   ],
   "source": [
    "housing_Crime_Data.dtypes"
   ]
  },
  {
   "cell_type": "code",
   "execution_count": 4,
   "metadata": {},
   "outputs": [
    {
     "data": {
      "text/plain": [
       "Index(['Month', 'Crime.type', 'postcode', 'price_paid', 'property_type',\n",
       "       'new_build', 'town', 'district'],\n",
       "      dtype='object')"
      ]
     },
     "execution_count": 4,
     "metadata": {},
     "output_type": "execute_result"
    }
   ],
   "source": [
    "housing_Crime_Data.columns"
   ]
  },
  {
   "cell_type": "code",
   "execution_count": 5,
   "metadata": {},
   "outputs": [],
   "source": [
    "housing_Crime_Data['Crime.type'] = pd.Categorical(housing_Crime_Data['Crime.type'] )\n",
    "housing_Crime_Data['postcode'] = pd.Categorical(housing_Crime_Data['postcode'] )\n",
    "housing_Crime_Data['Month'] = pd.Categorical(housing_Crime_Data['Month'])\n",
    "housing_Crime_Data['property_type'] = pd.Categorical(housing_Crime_Data['property_type'] )\n",
    "housing_Crime_Data['new_build'] = pd.Categorical(housing_Crime_Data['new_build'] )\n",
    "housing_Crime_Data['district'] = pd.Categorical(housing_Crime_Data['district'] )\n",
    "housing_Crime_Data['town'] =  pd.Categorical(housing_Crime_Data.loc[:,'town'])\n"
   ]
  },
  {
   "cell_type": "code",
   "execution_count": 6,
   "metadata": {},
   "outputs": [
    {
     "data": {
      "text/plain": [
       "Month            category\n",
       "Crime.type       category\n",
       "postcode         category\n",
       "price_paid          int64\n",
       "property_type    category\n",
       "new_build        category\n",
       "town             category\n",
       "district         category\n",
       "dtype: object"
      ]
     },
     "execution_count": 6,
     "metadata": {},
     "output_type": "execute_result"
    }
   ],
   "source": [
    "housing_Crime_Data.dtypes"
   ]
  },
  {
   "cell_type": "code",
   "execution_count": 8,
   "metadata": {},
   "outputs": [],
   "source": [
    "Housing_CrimeData_Clean_Cat = housing_Crime_Data.select_dtypes(include=['category'])\n",
    "Housing_CrimeData_Clean_num = housing_Crime_Data.select_dtypes(exclude=['category'])\n",
    "X_encoded = pd.get_dummies(Housing_CrimeData_Clean_Cat)"
   ]
  },
  {
   "cell_type": "code",
   "execution_count": 9,
   "metadata": {},
   "outputs": [],
   "source": [
    "frames = [X_encoded, Housing_CrimeData_Clean_num]\n",
    "combo_enc = pd.concat(frames, axis = 1)"
   ]
  },
  {
   "cell_type": "code",
   "execution_count": 10,
   "metadata": {},
   "outputs": [],
   "source": [
    "Housing_CrimeData_Clean_Cat_freq = Housing_CrimeData_Clean_Cat.copy()\n",
    "for c in Housing_CrimeData_Clean_Cat_freq.columns.to_list():\n",
    "    Housing_CrimeData_Clean_Cat_freq[c] = Housing_CrimeData_Clean_Cat_freq.groupby(c).transform('count')/len(Housing_CrimeData_Clean_Cat_freq[c])\n"
   ]
  },
  {
   "cell_type": "code",
   "execution_count": 11,
   "metadata": {},
   "outputs": [
    {
     "data": {
      "text/plain": [
       "(134435, 8)"
      ]
     },
     "execution_count": 11,
     "metadata": {},
     "output_type": "execute_result"
    }
   ],
   "source": [
    "frames_freq = [Housing_CrimeData_Clean_Cat_freq, Housing_CrimeData_Clean_num]\n",
    "combo_enc_freq = pd.concat(frames_freq, axis = 1)\n",
    "combo_enc_freq.shape"
   ]
  },
  {
   "cell_type": "code",
   "execution_count": 12,
   "metadata": {},
   "outputs": [
    {
     "name": "stdout",
     "output_type": "stream",
     "text": [
      "<class 'pandas.core.frame.DataFrame'>\n",
      "RangeIndex: 134435 entries, 0 to 134434\n",
      "Data columns (total 8 columns):\n",
      " #   Column         Non-Null Count   Dtype  \n",
      "---  ------         --------------   -----  \n",
      " 0   Month          134435 non-null  float64\n",
      " 1   Crime.type     134435 non-null  float64\n",
      " 2   postcode       134435 non-null  float64\n",
      " 3   property_type  134435 non-null  float64\n",
      " 4   new_build      134435 non-null  float64\n",
      " 5   town           134435 non-null  float64\n",
      " 6   district       134435 non-null  float64\n",
      " 7   price_paid     134435 non-null  int64  \n",
      "dtypes: float64(7), int64(1)\n",
      "memory usage: 8.2 MB\n"
     ]
    }
   ],
   "source": [
    "combo_enc_freq.tail()\n",
    "combo_enc_freq.info()"
   ]
  },
  {
   "cell_type": "code",
   "execution_count": 13,
   "metadata": {},
   "outputs": [],
   "source": [
    "from sklearn.model_selection import train_test_split\n",
    "Xtrain, Xtest, ytrain, ytest = train_test_split(combo_enc_freq.filter(items =[ 'Month', 'Crime.type', 'postcode', 'property_type',\n",
    "       'new_build', 'town', 'district']), combo_enc_freq['price_paid'], random_state=0)"
   ]
  },
  {
   "cell_type": "code",
   "execution_count": 14,
   "metadata": {},
   "outputs": [],
   "source": [
    "from sklearn.neural_network import MLPRegressor"
   ]
  },
  {
   "cell_type": "code",
   "execution_count": 15,
   "metadata": {},
   "outputs": [],
   "source": [
    "from sklearn.datasets import make_regression"
   ]
  },
  {
   "cell_type": "code",
   "execution_count": 43,
   "metadata": {},
   "outputs": [
    {
     "name": "stderr",
     "output_type": "stream",
     "text": [
      "C:\\Users\\tochi\\anaconda3\\lib\\site-packages\\sklearn\\neural_network\\_multilayer_perceptron.py:582: ConvergenceWarning: Stochastic Optimizer: Maximum iterations (15000) reached and the optimization hasn't converged yet.\n",
      "  warnings.warn(\n"
     ]
    }
   ],
   "source": [
    "regr = MLPRegressor(random_state=1, max_iter=15000).fit(Xtrain, ytrain)"
   ]
  },
  {
   "cell_type": "code",
   "execution_count": 44,
   "metadata": {
    "scrolled": true
   },
   "outputs": [
    {
     "data": {
      "text/plain": [
       "array([ 672271.06936196, 3195774.85376639,  489987.51534799, ...,\n",
       "       3268704.75471761,  279349.94606583,  555175.15235468])"
      ]
     },
     "execution_count": 44,
     "metadata": {},
     "output_type": "execute_result"
    }
   ],
   "source": [
    "regr.predict(Xtest)"
   ]
  },
  {
   "cell_type": "code",
   "execution_count": 45,
   "metadata": {},
   "outputs": [
    {
     "data": {
      "text/plain": [
       "0.027650184831768065"
      ]
     },
     "execution_count": 45,
     "metadata": {},
     "output_type": "execute_result"
    }
   ],
   "source": [
    "regr.score(Xtest, ytest)"
   ]
  },
  {
   "cell_type": "code",
   "execution_count": 51,
   "metadata": {},
   "outputs": [
    {
     "name": "stdout",
     "output_type": "stream",
     "text": [
      "0.019493542853790125 0.019289276754566154\n"
     ]
    }
   ],
   "source": [
    "#R_Square and Adjusted R Square\n",
    "import statsmodels.api as sm\n",
    "X_addC = sm.add_constant(Xtest)\n",
    "result = sm.OLS(ytest, X_addC).fit()\n",
    "print(result.rsquared, result.rsquared_adj)\n"
   ]
  },
  {
   "cell_type": "code",
   "execution_count": 69,
   "metadata": {},
   "outputs": [
    {
     "name": "stdout",
     "output_type": "stream",
     "text": [
      "30351495581054.434\n",
      "5509219.14440281\n"
     ]
    }
   ],
   "source": [
    "from sklearn.metrics import mean_squared_error\n",
    "import math\n",
    "pred_y = regr.predict(Xtest)\n",
    "print(mean_squared_error(ytest, pred_y))\n",
    "print(math.sqrt(mean_squared_error(ytest, pred_y)))\n"
   ]
  },
  {
   "cell_type": "code",
   "execution_count": 67,
   "metadata": {},
   "outputs": [
    {
     "name": "stdout",
     "output_type": "stream",
     "text": [
      "807765.0093318874\n"
     ]
    }
   ],
   "source": [
    "from sklearn.metrics import mean_absolute_error\n",
    "print(mean_absolute_error(ytest, pred_y))"
   ]
  },
  {
   "cell_type": "code",
   "execution_count": null,
   "metadata": {},
   "outputs": [],
   "source": [
    "Root Mean Square Error= 5509219.14440281\n",
    "               MAE metric mean absolute error= 807765.0093318874\n",
    "    Mean Square Error = 30351495581054.434\n",
    "            R square is 1.9%"
   ]
  }
 ],
 "metadata": {
  "kernelspec": {
   "display_name": "Python 3",
   "language": "python",
   "name": "python3"
  },
  "language_info": {
   "codemirror_mode": {
    "name": "ipython",
    "version": 3
   },
   "file_extension": ".py",
   "mimetype": "text/x-python",
   "name": "python",
   "nbconvert_exporter": "python",
   "pygments_lexer": "ipython3",
   "version": "3.8.5"
  }
 },
 "nbformat": 4,
 "nbformat_minor": 4
}
